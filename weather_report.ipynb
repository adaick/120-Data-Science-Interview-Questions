{
  "nbformat": 4,
  "nbformat_minor": 0,
  "metadata": {
    "colab": {
      "name": "weather_report",
      "provenance": [],
      "collapsed_sections": [],
      "authorship_tag": "ABX9TyP7fJXL4ejwmpRsQxPSgqh+",
      "include_colab_link": true
    },
    "kernelspec": {
      "name": "python3",
      "display_name": "Python 3"
    }
  },
  "cells": [
    {
      "cell_type": "markdown",
      "metadata": {
        "id": "view-in-github",
        "colab_type": "text"
      },
      "source": [
        "<a href=\"https://colab.research.google.com/github/adaick/120-Data-Science-Interview-Questions/blob/master/weather_report.ipynb\" target=\"_parent\"><img src=\"https://colab.research.google.com/assets/colab-badge.svg\" alt=\"Open In Colab\"/></a>"
      ]
    },
    {
      "cell_type": "markdown",
      "metadata": {
        "id": "hkswAepGyc5T"
      },
      "source": [
        "## ***Weather Report***"
      ]
    },
    {
      "cell_type": "markdown",
      "metadata": {
        "id": "E0ZUnIeeyihT"
      },
      "source": [
        "***The weather dataset is a time-series data set with per hour information about the weather condition at a particular loctaion***"
      ]
    },
    {
      "cell_type": "markdown",
      "metadata": {
        "id": "DuCpgFrBDMm8"
      },
      "source": [
        "This datasets will be analyzed using Pandas dataframe"
      ]
    },
    {
      "cell_type": "code",
      "metadata": {
        "id": "ACFPD5cHDITo"
      },
      "source": [
        "import pandas as pd"
      ],
      "execution_count": 1,
      "outputs": []
    },
    {
      "cell_type": "code",
      "metadata": {
        "id": "536577etFm3t"
      },
      "source": [
        "data = pd.read_csv('Weather Data.csv')"
      ],
      "execution_count": 2,
      "outputs": []
    },
    {
      "cell_type": "markdown",
      "metadata": {
        "id": "2YhyScNaFzIt"
      },
      "source": [
        "**Explore DataFrame**"
      ]
    },
    {
      "cell_type": "code",
      "metadata": {
        "colab": {
          "base_uri": "https://localhost:8080/",
          "height": 333
        },
        "id": "gAOnkT0ZGfZh",
        "outputId": "578ed2f3-a9e1-4c4b-ab1c-3459ba898652"
      },
      "source": [
        "data.head()"
      ],
      "execution_count": 4,
      "outputs": [
        {
          "output_type": "execute_result",
          "data": {
            "text/html": [
              "<div>\n",
              "<style scoped>\n",
              "    .dataframe tbody tr th:only-of-type {\n",
              "        vertical-align: middle;\n",
              "    }\n",
              "\n",
              "    .dataframe tbody tr th {\n",
              "        vertical-align: top;\n",
              "    }\n",
              "\n",
              "    .dataframe thead th {\n",
              "        text-align: right;\n",
              "    }\n",
              "</style>\n",
              "<table border=\"1\" class=\"dataframe\">\n",
              "  <thead>\n",
              "    <tr style=\"text-align: right;\">\n",
              "      <th></th>\n",
              "      <th>Date/Time</th>\n",
              "      <th>Temp_C</th>\n",
              "      <th>Dew Point Temp_C</th>\n",
              "      <th>Rel Hum_%</th>\n",
              "      <th>Wind Speed_km/h</th>\n",
              "      <th>Visibility_km</th>\n",
              "      <th>Press_kPa</th>\n",
              "      <th>Weather</th>\n",
              "    </tr>\n",
              "  </thead>\n",
              "  <tbody>\n",
              "    <tr>\n",
              "      <th>0</th>\n",
              "      <td>1/1/2012 0:00</td>\n",
              "      <td>-1.8</td>\n",
              "      <td>-3.9</td>\n",
              "      <td>86</td>\n",
              "      <td>4</td>\n",
              "      <td>8.0</td>\n",
              "      <td>101.24</td>\n",
              "      <td>Fog</td>\n",
              "    </tr>\n",
              "    <tr>\n",
              "      <th>1</th>\n",
              "      <td>1/1/2012 1:00</td>\n",
              "      <td>-1.8</td>\n",
              "      <td>-3.7</td>\n",
              "      <td>87</td>\n",
              "      <td>4</td>\n",
              "      <td>8.0</td>\n",
              "      <td>101.24</td>\n",
              "      <td>Fog</td>\n",
              "    </tr>\n",
              "    <tr>\n",
              "      <th>2</th>\n",
              "      <td>1/1/2012 2:00</td>\n",
              "      <td>-1.8</td>\n",
              "      <td>-3.4</td>\n",
              "      <td>89</td>\n",
              "      <td>7</td>\n",
              "      <td>4.0</td>\n",
              "      <td>101.26</td>\n",
              "      <td>Freezing Drizzle,Fog</td>\n",
              "    </tr>\n",
              "    <tr>\n",
              "      <th>3</th>\n",
              "      <td>1/1/2012 3:00</td>\n",
              "      <td>-1.5</td>\n",
              "      <td>-3.2</td>\n",
              "      <td>88</td>\n",
              "      <td>6</td>\n",
              "      <td>4.0</td>\n",
              "      <td>101.27</td>\n",
              "      <td>Freezing Drizzle,Fog</td>\n",
              "    </tr>\n",
              "    <tr>\n",
              "      <th>4</th>\n",
              "      <td>1/1/2012 4:00</td>\n",
              "      <td>-1.5</td>\n",
              "      <td>-3.3</td>\n",
              "      <td>88</td>\n",
              "      <td>7</td>\n",
              "      <td>4.8</td>\n",
              "      <td>101.23</td>\n",
              "      <td>Fog</td>\n",
              "    </tr>\n",
              "  </tbody>\n",
              "</table>\n",
              "</div>"
            ],
            "text/plain": [
              "       Date/Time  Temp_C  ...  Press_kPa               Weather\n",
              "0  1/1/2012 0:00    -1.8  ...     101.24                   Fog\n",
              "1  1/1/2012 1:00    -1.8  ...     101.24                   Fog\n",
              "2  1/1/2012 2:00    -1.8  ...     101.26  Freezing Drizzle,Fog\n",
              "3  1/1/2012 3:00    -1.5  ...     101.27  Freezing Drizzle,Fog\n",
              "4  1/1/2012 4:00    -1.5  ...     101.23                   Fog\n",
              "\n",
              "[5 rows x 8 columns]"
            ]
          },
          "metadata": {
            "tags": []
          },
          "execution_count": 4
        }
      ]
    },
    {
      "cell_type": "code",
      "metadata": {
        "colab": {
          "base_uri": "https://localhost:8080/"
        },
        "id": "oEHhus31K9oa",
        "outputId": "f3a1ade9-8722-446d-8970-b1ecacfbe6c2"
      },
      "source": [
        "data.shape"
      ],
      "execution_count": 6,
      "outputs": [
        {
          "output_type": "execute_result",
          "data": {
            "text/plain": [
              "(8784, 8)"
            ]
          },
          "metadata": {
            "tags": []
          },
          "execution_count": 6
        }
      ]
    },
    {
      "cell_type": "code",
      "metadata": {
        "colab": {
          "base_uri": "https://localhost:8080/"
        },
        "id": "sXbCtYtILDVK",
        "outputId": "a325f537-214f-4420-8a72-4f35016b6d5a"
      },
      "source": [
        "data.index"
      ],
      "execution_count": 7,
      "outputs": [
        {
          "output_type": "execute_result",
          "data": {
            "text/plain": [
              "RangeIndex(start=0, stop=8784, step=1)"
            ]
          },
          "metadata": {
            "tags": []
          },
          "execution_count": 7
        }
      ]
    },
    {
      "cell_type": "code",
      "metadata": {
        "colab": {
          "base_uri": "https://localhost:8080/"
        },
        "id": "DF3vhPwILOJa",
        "outputId": "4a42f966-56a4-4695-8ed6-f71e2ed4547d"
      },
      "source": [
        "data.columns"
      ],
      "execution_count": 8,
      "outputs": [
        {
          "output_type": "execute_result",
          "data": {
            "text/plain": [
              "Index(['Date/Time', 'Temp_C', 'Dew Point Temp_C', 'Rel Hum_%',\n",
              "       'Wind Speed_km/h', 'Visibility_km', 'Press_kPa', 'Weather'],\n",
              "      dtype='object')"
            ]
          },
          "metadata": {
            "tags": []
          },
          "execution_count": 8
        }
      ]
    },
    {
      "cell_type": "code",
      "metadata": {
        "colab": {
          "base_uri": "https://localhost:8080/"
        },
        "id": "Gu2DZQ88LRRq",
        "outputId": "cdd865b2-c888-4e76-d2e9-27e9cc1dcad1"
      },
      "source": [
        "data.dtypes"
      ],
      "execution_count": 10,
      "outputs": [
        {
          "output_type": "execute_result",
          "data": {
            "text/plain": [
              "Date/Time            object\n",
              "Temp_C              float64\n",
              "Dew Point Temp_C    float64\n",
              "Rel Hum_%             int64\n",
              "Wind Speed_km/h       int64\n",
              "Visibility_km       float64\n",
              "Press_kPa           float64\n",
              "Weather              object\n",
              "dtype: object"
            ]
          },
          "metadata": {
            "tags": []
          },
          "execution_count": 10
        }
      ]
    },
    {
      "cell_type": "code",
      "metadata": {
        "colab": {
          "base_uri": "https://localhost:8080/"
        },
        "id": "J3q2_05GLVPU",
        "outputId": "e2b29c36-ad73-4d99-8f5e-7be1f3c4b134"
      },
      "source": [
        "# only on cloumn name\r\n",
        "data['Weather'].unique()"
      ],
      "execution_count": 13,
      "outputs": [
        {
          "output_type": "execute_result",
          "data": {
            "text/plain": [
              "array(['Fog', 'Freezing Drizzle,Fog', 'Mostly Cloudy', 'Cloudy', 'Rain',\n",
              "       'Rain Showers', 'Mainly Clear', 'Snow Showers', 'Snow', 'Clear',\n",
              "       'Freezing Rain,Fog', 'Freezing Rain', 'Freezing Drizzle',\n",
              "       'Rain,Snow', 'Moderate Snow', 'Freezing Drizzle,Snow',\n",
              "       'Freezing Rain,Snow Grains', 'Snow,Blowing Snow', 'Freezing Fog',\n",
              "       'Haze', 'Rain,Fog', 'Drizzle,Fog', 'Drizzle',\n",
              "       'Freezing Drizzle,Haze', 'Freezing Rain,Haze', 'Snow,Haze',\n",
              "       'Snow,Fog', 'Snow,Ice Pellets', 'Rain,Haze', 'Thunderstorms,Rain',\n",
              "       'Thunderstorms,Rain Showers', 'Thunderstorms,Heavy Rain Showers',\n",
              "       'Thunderstorms,Rain Showers,Fog', 'Thunderstorms',\n",
              "       'Thunderstorms,Rain,Fog',\n",
              "       'Thunderstorms,Moderate Rain Showers,Fog', 'Rain Showers,Fog',\n",
              "       'Rain Showers,Snow Showers', 'Snow Pellets', 'Rain,Snow,Fog',\n",
              "       'Moderate Rain,Fog', 'Freezing Rain,Ice Pellets,Fog',\n",
              "       'Drizzle,Ice Pellets,Fog', 'Drizzle,Snow', 'Rain,Ice Pellets',\n",
              "       'Drizzle,Snow,Fog', 'Rain,Snow Grains', 'Rain,Snow,Ice Pellets',\n",
              "       'Snow Showers,Fog', 'Moderate Snow,Blowing Snow'], dtype=object)"
            ]
          },
          "metadata": {
            "tags": []
          },
          "execution_count": 13
        }
      ]
    },
    {
      "cell_type": "code",
      "metadata": {
        "colab": {
          "base_uri": "https://localhost:8080/"
        },
        "id": "Vg-30lgQLbnv",
        "outputId": "cf679d39-c156-4ce6-d208-bbccf4e9d63c"
      },
      "source": [
        "data.nunique()"
      ],
      "execution_count": 14,
      "outputs": [
        {
          "output_type": "execute_result",
          "data": {
            "text/plain": [
              "Date/Time           8784\n",
              "Temp_C               533\n",
              "Dew Point Temp_C     489\n",
              "Rel Hum_%             83\n",
              "Wind Speed_km/h       34\n",
              "Visibility_km         24\n",
              "Press_kPa            518\n",
              "Weather               50\n",
              "dtype: int64"
            ]
          },
          "metadata": {
            "tags": []
          },
          "execution_count": 14
        }
      ]
    },
    {
      "cell_type": "code",
      "metadata": {
        "colab": {
          "base_uri": "https://localhost:8080/"
        },
        "id": "3x9QyZVdMEwq",
        "outputId": "a33e9986-49eb-4a21-91bf-fb3b96f42d54"
      },
      "source": [
        "data.count()"
      ],
      "execution_count": 16,
      "outputs": [
        {
          "output_type": "execute_result",
          "data": {
            "text/plain": [
              "Date/Time           8784\n",
              "Temp_C              8784\n",
              "Dew Point Temp_C    8784\n",
              "Rel Hum_%           8784\n",
              "Wind Speed_km/h     8784\n",
              "Visibility_km       8784\n",
              "Press_kPa           8784\n",
              "Weather             8784\n",
              "dtype: int64"
            ]
          },
          "metadata": {
            "tags": []
          },
          "execution_count": 16
        }
      ]
    },
    {
      "cell_type": "code",
      "metadata": {
        "colab": {
          "base_uri": "https://localhost:8080/"
        },
        "id": "LHTXIQ19MJdG",
        "outputId": "012a57ba-07f7-4274-aad8-52a7de1ea64a"
      },
      "source": [
        "data['Weather'].value_counts()"
      ],
      "execution_count": 17,
      "outputs": [
        {
          "output_type": "execute_result",
          "data": {
            "text/plain": [
              "Mainly Clear                               2106\n",
              "Mostly Cloudy                              2069\n",
              "Cloudy                                     1728\n",
              "Clear                                      1326\n",
              "Snow                                        390\n",
              "Rain                                        306\n",
              "Rain Showers                                188\n",
              "Fog                                         150\n",
              "Rain,Fog                                    116\n",
              "Drizzle,Fog                                  80\n",
              "Snow Showers                                 60\n",
              "Drizzle                                      41\n",
              "Snow,Fog                                     37\n",
              "Snow,Blowing Snow                            19\n",
              "Rain,Snow                                    18\n",
              "Haze                                         16\n",
              "Thunderstorms,Rain Showers                   16\n",
              "Drizzle,Snow,Fog                             15\n",
              "Freezing Rain                                14\n",
              "Freezing Drizzle,Snow                        11\n",
              "Freezing Drizzle                              7\n",
              "Freezing Drizzle,Fog                          6\n",
              "Snow,Ice Pellets                              6\n",
              "Snow,Haze                                     5\n",
              "Freezing Rain,Fog                             4\n",
              "Snow Showers,Fog                              4\n",
              "Rain,Snow,Ice Pellets                         4\n",
              "Moderate Snow                                 4\n",
              "Freezing Fog                                  4\n",
              "Thunderstorms,Rain Showers,Fog                3\n",
              "Thunderstorms,Rain                            3\n",
              "Freezing Drizzle,Haze                         3\n",
              "Rain,Haze                                     3\n",
              "Rain Showers,Snow Showers                     2\n",
              "Drizzle,Snow                                  2\n",
              "Freezing Rain,Haze                            2\n",
              "Thunderstorms                                 2\n",
              "Moderate Snow,Blowing Snow                    2\n",
              "Freezing Rain,Ice Pellets,Fog                 1\n",
              "Freezing Rain,Snow Grains                     1\n",
              "Thunderstorms,Heavy Rain Showers              1\n",
              "Rain,Snow,Fog                                 1\n",
              "Drizzle,Ice Pellets,Fog                       1\n",
              "Rain,Ice Pellets                              1\n",
              "Moderate Rain,Fog                             1\n",
              "Rain Showers,Fog                              1\n",
              "Rain,Snow Grains                              1\n",
              "Thunderstorms,Rain,Fog                        1\n",
              "Thunderstorms,Moderate Rain Showers,Fog       1\n",
              "Snow Pellets                                  1\n",
              "Name: Weather, dtype: int64"
            ]
          },
          "metadata": {
            "tags": []
          },
          "execution_count": 17
        }
      ]
    },
    {
      "cell_type": "code",
      "metadata": {
        "colab": {
          "base_uri": "https://localhost:8080/"
        },
        "id": "VUyKwsBoMnnw",
        "outputId": "b35ec54d-ed29-44f3-8682-451bf3f1410f"
      },
      "source": [
        "data.info()"
      ],
      "execution_count": 18,
      "outputs": [
        {
          "output_type": "stream",
          "text": [
            "<class 'pandas.core.frame.DataFrame'>\n",
            "RangeIndex: 8784 entries, 0 to 8783\n",
            "Data columns (total 8 columns):\n",
            " #   Column            Non-Null Count  Dtype  \n",
            "---  ------            --------------  -----  \n",
            " 0   Date/Time         8784 non-null   object \n",
            " 1   Temp_C            8784 non-null   float64\n",
            " 2   Dew Point Temp_C  8784 non-null   float64\n",
            " 3   Rel Hum_%         8784 non-null   int64  \n",
            " 4   Wind Speed_km/h   8784 non-null   int64  \n",
            " 5   Visibility_km     8784 non-null   float64\n",
            " 6   Press_kPa         8784 non-null   float64\n",
            " 7   Weather           8784 non-null   object \n",
            "dtypes: float64(4), int64(2), object(2)\n",
            "memory usage: 549.1+ KB\n"
          ],
          "name": "stdout"
        }
      ]
    },
    {
      "cell_type": "markdown",
      "metadata": {
        "id": "M_SSZXSqRu-d"
      },
      "source": [
        "Unique \"wind speed\" values in data"
      ]
    },
    {
      "cell_type": "code",
      "metadata": {
        "id": "IXad0QtSMuLJ"
      },
      "source": [
        ""
      ],
      "execution_count": null,
      "outputs": []
    },
    {
      "cell_type": "markdown",
      "metadata": {
        "id": "WtDD7EObRvJq"
      },
      "source": [
        "Number of times \"Weather is exactly clear\""
      ]
    },
    {
      "cell_type": "code",
      "metadata": {
        "id": "0vGmwzRMUieX"
      },
      "source": [
        ""
      ],
      "execution_count": null,
      "outputs": []
    },
    {
      "cell_type": "markdown",
      "metadata": {
        "id": "aCXHg3NnRvVa"
      },
      "source": [
        "Number of times \"when wind speed was exactly 4 km/hr\""
      ]
    },
    {
      "cell_type": "code",
      "metadata": {
        "id": "bLvI0EX4UiPd"
      },
      "source": [
        ""
      ],
      "execution_count": null,
      "outputs": []
    }
  ]
}